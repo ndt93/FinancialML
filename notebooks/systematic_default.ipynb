{
 "cells": [
  {
   "cell_type": "code",
   "execution_count": 1,
   "id": "4b8c989b-32da-40ee-94ce-c157c6310732",
   "metadata": {},
   "outputs": [],
   "source": [
    "import sys\n",
    "sys.path += ['..']"
   ]
  },
  {
   "cell_type": "code",
   "execution_count": 2,
   "id": "7b253a6e-96e7-4084-8e0f-6d0d5d762ab7",
   "metadata": {},
   "outputs": [],
   "source": [
    "import requests\n",
    "import pandas as pd\n",
    "import yfinance as yf\n",
    "import matplotlib.pyplot as plt\n",
    "import seaborn as sns\n",
    "import numpy as np\n",
    "\n",
    "from financial_ml.features.systematic_default import FirmStructuralCreditRisk"
   ]
  },
  {
   "cell_type": "code",
   "execution_count": 56,
   "id": "57d3c546-3091-44a7-884b-82e514dac5bd",
   "metadata": {},
   "outputs": [],
   "source": [
    "fmp_api_key = ''\n",
    "api_base = 'https://financialmodelingprep.com/api'"
   ]
  },
  {
   "cell_type": "code",
   "execution_count": 57,
   "id": "980760cd-4cff-4b33-83a8-efcae1c4bcd6",
   "metadata": {},
   "outputs": [],
   "source": [
    "def read_treasury_yields(file_path):\n",
    "    treasury_yields = pd.read_csv(file_path)\n",
    "    treasury_yields = treasury_yields.rename(columns={'DATE': 'date', 'DGS1': 'yield'})\n",
    "    treasury_yields['date'] = pd.to_datetime(treasury_yields['date'])\n",
    "    treasury_yields = treasury_yields.dropna(subset='yield')\n",
    "    treasury_yields = treasury_yields[treasury_yields['yield'] != '.']\n",
    "    treasury_yields['yield'] = treasury_yields['yield'].astype(float)/100\n",
    "    return treasury_yields"
   ]
  },
  {
   "cell_type": "code",
   "execution_count": 58,
   "id": "0b00b5f3-8fbc-48d3-9059-2466716b85d9",
   "metadata": {},
   "outputs": [],
   "source": [
    "def read_bonds_index_data(file_path):\n",
    "    bnd_idx = pd.read_excel(file_path).dropna()\n",
    "    bnd_idx = bnd_idx.iloc[2:]\n",
    "    bnd_idx.columns = ['date', 'price']\n",
    "    bnd_idx['date'] = pd.to_datetime(bnd_idx['date'])\n",
    "    bnd_idx['price'] = bnd_idx['price'].astype(float)\n",
    "    return bnd_idx"
   ]
  },
  {
   "cell_type": "code",
   "execution_count": 59,
   "id": "872bff77-0773-435c-9978-3dc8164f1e4f",
   "metadata": {},
   "outputs": [],
   "source": [
    "def get_equities_index_data():\n",
    "    spy_yf = yf.Ticker('SPY')\n",
    "    spy_df = spy_yf.history(interval='1d', period='11y', prepost=False)\n",
    "    res = pd.DataFrame({'date': pd.to_datetime(spy_df.index.date), 'price': spy_df['Close']})\n",
    "    res = res.reset_index(drop=True)\n",
    "    return res"
   ]
  },
  {
   "cell_type": "code",
   "execution_count": 60,
   "id": "8e1ce5b0-63d1-42d4-a951-3aa76e8ed294",
   "metadata": {},
   "outputs": [],
   "source": [
    "def get_firm_data(ticker):\n",
    "    market_cap_api = f'{api_base}/v3/historical-market-capitalization/{ticker}?limit=7700&apikey={fmp_api_key}'\n",
    "    market_caps = requests.get(market_cap_api).json()\n",
    "    market_caps = pd.DataFrame(market_caps)\n",
    "    market_caps = market_caps[['date', 'marketCap']]\n",
    "    market_caps['date'] = pd.to_datetime(market_caps['date'])\n",
    "    market_caps = market_caps.sort_values('date').reset_index(drop=True)\n",
    "    \n",
    "    balance_sheet_api = f'{api_base}/v3/balance-sheet-statement/{ticker}?period=quarter&limit=120&apikey={fmp_api_key}'\n",
    "    balance_sheets = requests.get(balance_sheet_api).json()\n",
    "    balance_sheets_df = pd.DataFrame(balance_sheets)\n",
    "    balance_sheets_df = balance_sheets_df[['acceptedDate', 'shortTermDebt', 'longTermDebt']]\n",
    "    balance_sheets_df['acceptedDate'] = pd.to_datetime(balance_sheets_df['acceptedDate'])\n",
    "    balance_sheets_df = balance_sheets_df.sort_values('acceptedDate')\n",
    "\n",
    "    join_indices = market_caps['date'].apply(lambda d: balance_sheets_df['acceptedDate'].searchsorted(d) - 1).values\n",
    "    balance_sheets_join = balance_sheets_df.iloc[join_indices].copy()\n",
    "    balance_sheets_join['acceptedDate'] = balance_sheets_join['acceptedDate'].where(join_indices >= 0)\n",
    "    balance_sheets_join = balance_sheets_join.reset_index(drop=True)\n",
    "\n",
    "    firm_data = pd.concat([market_caps, balance_sheets_join], axis=1)\n",
    "    firm_data = firm_data.dropna(subset='acceptedDate')\n",
    "    firm_data = firm_data.rename(columns={'acceptedDate': 'balanceSheetDate'})\n",
    "    return firm_data"
   ]
  },
  {
   "cell_type": "code",
   "execution_count": 61,
   "id": "abf4d6d4-0d5c-4336-b2c9-ba4f89178b10",
   "metadata": {},
   "outputs": [],
   "source": [
    "def create_systematic_default_dataset(firm_data, treasury_yields, bonds_index, equities_index):\n",
    "    dataset = firm_data.merge(treasury_yields, on='date')\n",
    "    dataset = dataset.rename(columns={'yield': 'treasury_yield'})\n",
    "    dataset = dataset.merge(bonds_index, on='date').rename(columns={'price': 'bonds_index'})\n",
    "    dataset = dataset.merge(equities_index, on='date').rename(columns={'price': 'equities_index'})\n",
    "    dataset = dataset.dropna(subset='treasury_yield')\n",
    "    return dataset"
   ]
  },
  {
   "cell_type": "code",
   "execution_count": 71,
   "id": "3e49099c-c877-4a17-9be2-ddd271c4a4de",
   "metadata": {},
   "outputs": [],
   "source": [
    "def create_firm_model(dataset, interval, expected_market_ret, equity_ratio=0.81, return_assets=False):\n",
    "    equity_mkt_rets = np.diff(np.log(dataset['equities_index']))\n",
    "    bnd_mkt_rets = np.diff(np.log(dataset['bonds_index']))\n",
    "    market_rets = equity_ratio * equity_mkt_rets + (1 - equity_ratio) * bnd_mkt_rets\n",
    "    \n",
    "    debt_values = (dataset['shortTermDebt'] + dataset['longTermDebt']/2).values\n",
    "    risk_free_rates = dataset['treasury_yield'].iloc[:-1].values\n",
    "    \n",
    "    model = FirmStructuralCreditRisk()\n",
    "    res = model.fit(\n",
    "        expected_market_ret=expected_market_ret,\n",
    "        market_rets=market_rets,\n",
    "        equity_values=dataset['marketCap'].values,\n",
    "        debt_values=debt_values,\n",
    "        debt_maturities=[1] * len(dataset),\n",
    "        interval=interval,\n",
    "        risk_free_rates=risk_free_rates,\n",
    "    )\n",
    "    if return_assets:\n",
    "        return model, res\n",
    "    else:\n",
    "        return model"
   ]
  },
  {
   "cell_type": "code",
   "execution_count": 9,
   "id": "d07708a4-6175-4e3f-a224-01b83b56bea2",
   "metadata": {},
   "outputs": [],
   "source": [
    "# Data from https://fred.stlouisfed.org/series/DGS1\n",
    "treasury_yields = read_treasury_yields('../data/systematic_default/treasury_yield_1Y.csv')\n",
    "\n",
    "# Data from https://www.spglobal.com/spdji/en/indices/fixed-income/sp-500-bond-index/#overview\n",
    "bonds_index = read_bonds_index_data('../data/systematic_default/sp500_bnd_idx.xls')\n",
    "\n",
    "equities_index = get_equities_index_data()"
   ]
  },
  {
   "cell_type": "markdown",
   "id": "911e23a0-9d85-407f-9306-1a712b898e14",
   "metadata": {},
   "source": [
    "## Single Firm Default"
   ]
  },
  {
   "cell_type": "code",
   "execution_count": 19,
   "id": "3704b703-9a17-4ab2-afcc-3ff88c2d3f3e",
   "metadata": {},
   "outputs": [],
   "source": [
    "ticker = 'AAPL'\n",
    "firm_data = get_firm_data(ticker)"
   ]
  },
  {
   "cell_type": "code",
   "execution_count": 62,
   "id": "2ffeeb33-e7fc-4b7b-ba75-852780738855",
   "metadata": {},
   "outputs": [],
   "source": [
    "dataset = create_systematic_default_dataset(\n",
    "    firm_data=firm_data,\n",
    "    treasury_yields=treasury_yields,\n",
    "    bonds_index=bonds_index,\n",
    "    equities_index=equities_index\n",
    ")\n",
    "dataset.to_csv(f'../data/{ticker.lower()}_structural_data.csv', index=False)"
   ]
  },
  {
   "cell_type": "code",
   "execution_count": 19,
   "id": "10fee75d-7b45-42bf-906e-3a2321f229e1",
   "metadata": {},
   "outputs": [],
   "source": [
    "dataset = pd.read_csv(f'../data/{ticker.lower()}_structural_data.csv')\n",
    "dataset['date'] = pd.to_datetime(dataset['date'])"
   ]
  },
  {
   "cell_type": "code",
   "execution_count": 63,
   "id": "a177e7fa-24ab-494c-80c4-44edb7fac5b2",
   "metadata": {},
   "outputs": [
    {
     "data": {
      "text/html": [
       "<div>\n",
       "<style scoped>\n",
       "    .dataframe tbody tr th:only-of-type {\n",
       "        vertical-align: middle;\n",
       "    }\n",
       "\n",
       "    .dataframe tbody tr th {\n",
       "        vertical-align: top;\n",
       "    }\n",
       "\n",
       "    .dataframe thead th {\n",
       "        text-align: right;\n",
       "    }\n",
       "</style>\n",
       "<table border=\"1\" class=\"dataframe\">\n",
       "  <thead>\n",
       "    <tr style=\"text-align: right;\">\n",
       "      <th></th>\n",
       "      <th>date</th>\n",
       "      <th>marketCap</th>\n",
       "      <th>balanceSheetDate</th>\n",
       "      <th>shortTermDebt</th>\n",
       "      <th>longTermDebt</th>\n",
       "      <th>treasury_yield</th>\n",
       "      <th>bonds_index</th>\n",
       "      <th>equities_index</th>\n",
       "    </tr>\n",
       "  </thead>\n",
       "  <tbody>\n",
       "    <tr>\n",
       "      <th>0</th>\n",
       "      <td>2013-05-31</td>\n",
       "      <td>413135584848</td>\n",
       "      <td>2013-04-23 21:29:23</td>\n",
       "      <td>0</td>\n",
       "      <td>0</td>\n",
       "      <td>0.0014</td>\n",
       "      <td>368.08</td>\n",
       "      <td>135.333801</td>\n",
       "    </tr>\n",
       "    <tr>\n",
       "      <th>1</th>\n",
       "      <td>2013-06-03</td>\n",
       "      <td>414038402618</td>\n",
       "      <td>2013-04-23 21:29:23</td>\n",
       "      <td>0</td>\n",
       "      <td>0</td>\n",
       "      <td>0.0014</td>\n",
       "      <td>368.35</td>\n",
       "      <td>136.079025</td>\n",
       "    </tr>\n",
       "    <tr>\n",
       "      <th>2</th>\n",
       "      <td>2013-06-04</td>\n",
       "      <td>412744621027</td>\n",
       "      <td>2013-04-23 21:29:23</td>\n",
       "      <td>0</td>\n",
       "      <td>0</td>\n",
       "      <td>0.0014</td>\n",
       "      <td>367.69</td>\n",
       "      <td>135.424850</td>\n",
       "    </tr>\n",
       "    <tr>\n",
       "      <th>3</th>\n",
       "      <td>2013-06-05</td>\n",
       "      <td>408886425427</td>\n",
       "      <td>2013-04-23 21:29:23</td>\n",
       "      <td>0</td>\n",
       "      <td>0</td>\n",
       "      <td>0.0014</td>\n",
       "      <td>367.42</td>\n",
       "      <td>133.528839</td>\n",
       "    </tr>\n",
       "    <tr>\n",
       "      <th>4</th>\n",
       "      <td>2013-06-06</td>\n",
       "      <td>402777615727</td>\n",
       "      <td>2013-04-23 21:29:23</td>\n",
       "      <td>0</td>\n",
       "      <td>0</td>\n",
       "      <td>0.0014</td>\n",
       "      <td>367.75</td>\n",
       "      <td>134.737656</td>\n",
       "    </tr>\n",
       "    <tr>\n",
       "      <th>...</th>\n",
       "      <td>...</td>\n",
       "      <td>...</td>\n",
       "      <td>...</td>\n",
       "      <td>...</td>\n",
       "      <td>...</td>\n",
       "      <td>...</td>\n",
       "      <td>...</td>\n",
       "      <td>...</td>\n",
       "    </tr>\n",
       "    <tr>\n",
       "      <th>2510</th>\n",
       "      <td>2023-06-16</td>\n",
       "      <td>2919360517680</td>\n",
       "      <td>2023-05-04 18:03:52</td>\n",
       "      <td>12574000000</td>\n",
       "      <td>97041000000</td>\n",
       "      <td>0.0524</td>\n",
       "      <td>470.06</td>\n",
       "      <td>439.459991</td>\n",
       "    </tr>\n",
       "    <tr>\n",
       "      <th>2511</th>\n",
       "      <td>2023-06-20</td>\n",
       "      <td>2920781361540</td>\n",
       "      <td>2023-05-04 18:03:52</td>\n",
       "      <td>12574000000</td>\n",
       "      <td>97041000000</td>\n",
       "      <td>0.0524</td>\n",
       "      <td>471.45</td>\n",
       "      <td>437.179993</td>\n",
       "    </tr>\n",
       "    <tr>\n",
       "      <th>2512</th>\n",
       "      <td>2023-06-21</td>\n",
       "      <td>2904204849840</td>\n",
       "      <td>2023-05-04 18:03:52</td>\n",
       "      <td>12574000000</td>\n",
       "      <td>97041000000</td>\n",
       "      <td>0.0525</td>\n",
       "      <td>471.74</td>\n",
       "      <td>434.940002</td>\n",
       "    </tr>\n",
       "    <tr>\n",
       "      <th>2513</th>\n",
       "      <td>2023-06-22</td>\n",
       "      <td>2952197798000</td>\n",
       "      <td>2023-05-04 18:03:52</td>\n",
       "      <td>12574000000</td>\n",
       "      <td>97041000000</td>\n",
       "      <td>0.0529</td>\n",
       "      <td>469.57</td>\n",
       "      <td>436.510010</td>\n",
       "    </tr>\n",
       "    <tr>\n",
       "      <th>2514</th>\n",
       "      <td>2023-06-23</td>\n",
       "      <td>2947145908720</td>\n",
       "      <td>2023-05-04 18:03:52</td>\n",
       "      <td>12574000000</td>\n",
       "      <td>97041000000</td>\n",
       "      <td>0.0525</td>\n",
       "      <td>470.95</td>\n",
       "      <td>433.209991</td>\n",
       "    </tr>\n",
       "  </tbody>\n",
       "</table>\n",
       "<p>2515 rows × 8 columns</p>\n",
       "</div>"
      ],
      "text/plain": [
       "           date      marketCap    balanceSheetDate  shortTermDebt  \\\n",
       "0    2013-05-31   413135584848 2013-04-23 21:29:23              0   \n",
       "1    2013-06-03   414038402618 2013-04-23 21:29:23              0   \n",
       "2    2013-06-04   412744621027 2013-04-23 21:29:23              0   \n",
       "3    2013-06-05   408886425427 2013-04-23 21:29:23              0   \n",
       "4    2013-06-06   402777615727 2013-04-23 21:29:23              0   \n",
       "...         ...            ...                 ...            ...   \n",
       "2510 2023-06-16  2919360517680 2023-05-04 18:03:52    12574000000   \n",
       "2511 2023-06-20  2920781361540 2023-05-04 18:03:52    12574000000   \n",
       "2512 2023-06-21  2904204849840 2023-05-04 18:03:52    12574000000   \n",
       "2513 2023-06-22  2952197798000 2023-05-04 18:03:52    12574000000   \n",
       "2514 2023-06-23  2947145908720 2023-05-04 18:03:52    12574000000   \n",
       "\n",
       "      longTermDebt  treasury_yield  bonds_index  equities_index  \n",
       "0                0          0.0014       368.08      135.333801  \n",
       "1                0          0.0014       368.35      136.079025  \n",
       "2                0          0.0014       367.69      135.424850  \n",
       "3                0          0.0014       367.42      133.528839  \n",
       "4                0          0.0014       367.75      134.737656  \n",
       "...            ...             ...          ...             ...  \n",
       "2510   97041000000          0.0524       470.06      439.459991  \n",
       "2511   97041000000          0.0524       471.45      437.179993  \n",
       "2512   97041000000          0.0525       471.74      434.940002  \n",
       "2513   97041000000          0.0529       469.57      436.510010  \n",
       "2514   97041000000          0.0525       470.95      433.209991  \n",
       "\n",
       "[2515 rows x 8 columns]"
      ]
     },
     "execution_count": 63,
     "metadata": {},
     "output_type": "execute_result"
    }
   ],
   "source": [
    "dataset"
   ]
  },
  {
   "cell_type": "code",
   "execution_count": 72,
   "id": "78d1b493-c253-402b-8da9-fafe85d6ea94",
   "metadata": {},
   "outputs": [
    {
     "data": {
      "text/html": [
       "<div>\n",
       "<style scoped>\n",
       "    .dataframe tbody tr th:only-of-type {\n",
       "        vertical-align: middle;\n",
       "    }\n",
       "\n",
       "    .dataframe tbody tr th {\n",
       "        vertical-align: top;\n",
       "    }\n",
       "\n",
       "    .dataframe thead th {\n",
       "        text-align: right;\n",
       "    }\n",
       "</style>\n",
       "<table border=\"1\" class=\"dataframe\">\n",
       "  <thead>\n",
       "    <tr style=\"text-align: right;\">\n",
       "      <th></th>\n",
       "      <th>marketCap</th>\n",
       "      <th>balanceSheetDate</th>\n",
       "      <th>shortTermDebt</th>\n",
       "      <th>longTermDebt</th>\n",
       "      <th>treasury_yield</th>\n",
       "      <th>bonds_index</th>\n",
       "      <th>equities_index</th>\n",
       "    </tr>\n",
       "    <tr>\n",
       "      <th>date</th>\n",
       "      <th></th>\n",
       "      <th></th>\n",
       "      <th></th>\n",
       "      <th></th>\n",
       "      <th></th>\n",
       "      <th></th>\n",
       "      <th></th>\n",
       "    </tr>\n",
       "  </thead>\n",
       "  <tbody>\n",
       "    <tr>\n",
       "      <th>2013-05-01</th>\n",
       "      <td>413135584848</td>\n",
       "      <td>2013-04-23 21:29:23</td>\n",
       "      <td>0</td>\n",
       "      <td>0</td>\n",
       "      <td>0.0014</td>\n",
       "      <td>368.08</td>\n",
       "      <td>135.333801</td>\n",
       "    </tr>\n",
       "    <tr>\n",
       "      <th>2013-06-01</th>\n",
       "      <td>414038402618</td>\n",
       "      <td>2013-04-23 21:29:23</td>\n",
       "      <td>0</td>\n",
       "      <td>0</td>\n",
       "      <td>0.0014</td>\n",
       "      <td>368.35</td>\n",
       "      <td>136.079025</td>\n",
       "    </tr>\n",
       "    <tr>\n",
       "      <th>2013-07-01</th>\n",
       "      <td>378663951820</td>\n",
       "      <td>2013-04-23 21:29:23</td>\n",
       "      <td>0</td>\n",
       "      <td>0</td>\n",
       "      <td>0.0015</td>\n",
       "      <td>359.17</td>\n",
       "      <td>134.310242</td>\n",
       "    </tr>\n",
       "    <tr>\n",
       "      <th>2013-08-01</th>\n",
       "      <td>422577570153</td>\n",
       "      <td>2013-07-24 17:02:02</td>\n",
       "      <td>0</td>\n",
       "      <td>16958000000</td>\n",
       "      <td>0.0013</td>\n",
       "      <td>359.46</td>\n",
       "      <td>142.051270</td>\n",
       "    </tr>\n",
       "    <tr>\n",
       "      <th>2013-09-01</th>\n",
       "      <td>452098590112</td>\n",
       "      <td>2013-07-24 17:02:02</td>\n",
       "      <td>0</td>\n",
       "      <td>16958000000</td>\n",
       "      <td>0.0014</td>\n",
       "      <td>357.83</td>\n",
       "      <td>136.832321</td>\n",
       "    </tr>\n",
       "    <tr>\n",
       "      <th>...</th>\n",
       "      <td>...</td>\n",
       "      <td>...</td>\n",
       "      <td>...</td>\n",
       "      <td>...</td>\n",
       "      <td>...</td>\n",
       "      <td>...</td>\n",
       "      <td>...</td>\n",
       "    </tr>\n",
       "    <tr>\n",
       "      <th>2023-02-01</th>\n",
       "      <td>2295925806220</td>\n",
       "      <td>2022-10-27 18:01:14</td>\n",
       "      <td>21110000000</td>\n",
       "      <td>98959000000</td>\n",
       "      <td>0.0466</td>\n",
       "      <td>477.31</td>\n",
       "      <td>407.723602</td>\n",
       "    </tr>\n",
       "    <tr>\n",
       "      <th>2023-03-01</th>\n",
       "      <td>2294031347740</td>\n",
       "      <td>2023-02-02 18:01:30</td>\n",
       "      <td>11483000000</td>\n",
       "      <td>99627000000</td>\n",
       "      <td>0.0506</td>\n",
       "      <td>457.82</td>\n",
       "      <td>391.783875</td>\n",
       "    </tr>\n",
       "    <tr>\n",
       "      <th>2023-04-01</th>\n",
       "      <td>2623351380180</td>\n",
       "      <td>2023-02-02 18:01:30</td>\n",
       "      <td>11483000000</td>\n",
       "      <td>99627000000</td>\n",
       "      <td>0.0460</td>\n",
       "      <td>474.30</td>\n",
       "      <td>409.429138</td>\n",
       "    </tr>\n",
       "    <tr>\n",
       "      <th>2023-05-01</th>\n",
       "      <td>2677343446860</td>\n",
       "      <td>2023-02-02 18:01:30</td>\n",
       "      <td>11483000000</td>\n",
       "      <td>99627000000</td>\n",
       "      <td>0.0486</td>\n",
       "      <td>471.07</td>\n",
       "      <td>413.972260</td>\n",
       "    </tr>\n",
       "    <tr>\n",
       "      <th>2023-06-01</th>\n",
       "      <td>2843108563860</td>\n",
       "      <td>2023-05-04 18:03:52</td>\n",
       "      <td>12574000000</td>\n",
       "      <td>97041000000</td>\n",
       "      <td>0.0511</td>\n",
       "      <td>470.68</td>\n",
       "      <td>420.258911</td>\n",
       "    </tr>\n",
       "  </tbody>\n",
       "</table>\n",
       "<p>122 rows × 7 columns</p>\n",
       "</div>"
      ],
      "text/plain": [
       "                marketCap    balanceSheetDate  shortTermDebt  longTermDebt  \\\n",
       "date                                                                         \n",
       "2013-05-01   413135584848 2013-04-23 21:29:23              0             0   \n",
       "2013-06-01   414038402618 2013-04-23 21:29:23              0             0   \n",
       "2013-07-01   378663951820 2013-04-23 21:29:23              0             0   \n",
       "2013-08-01   422577570153 2013-07-24 17:02:02              0   16958000000   \n",
       "2013-09-01   452098590112 2013-07-24 17:02:02              0   16958000000   \n",
       "...                   ...                 ...            ...           ...   \n",
       "2023-02-01  2295925806220 2022-10-27 18:01:14    21110000000   98959000000   \n",
       "2023-03-01  2294031347740 2023-02-02 18:01:30    11483000000   99627000000   \n",
       "2023-04-01  2623351380180 2023-02-02 18:01:30    11483000000   99627000000   \n",
       "2023-05-01  2677343446860 2023-02-02 18:01:30    11483000000   99627000000   \n",
       "2023-06-01  2843108563860 2023-05-04 18:03:52    12574000000   97041000000   \n",
       "\n",
       "            treasury_yield  bonds_index  equities_index  \n",
       "date                                                     \n",
       "2013-05-01          0.0014       368.08      135.333801  \n",
       "2013-06-01          0.0014       368.35      136.079025  \n",
       "2013-07-01          0.0015       359.17      134.310242  \n",
       "2013-08-01          0.0013       359.46      142.051270  \n",
       "2013-09-01          0.0014       357.83      136.832321  \n",
       "...                    ...          ...             ...  \n",
       "2023-02-01          0.0466       477.31      407.723602  \n",
       "2023-03-01          0.0506       457.82      391.783875  \n",
       "2023-04-01          0.0460       474.30      409.429138  \n",
       "2023-05-01          0.0486       471.07      413.972260  \n",
       "2023-06-01          0.0511       470.68      420.258911  \n",
       "\n",
       "[122 rows x 7 columns]"
      ]
     },
     "execution_count": 72,
     "metadata": {},
     "output_type": "execute_result"
    }
   ],
   "source": [
    "dataset_monthly = dataset.resample('MS', on='date').first()\n",
    "dataset_monthly"
   ]
  },
  {
   "cell_type": "code",
   "execution_count": 75,
   "id": "fe996efd-9f68-48e2-850d-d0d4c4f909b4",
   "metadata": {},
   "outputs": [],
   "source": [
    "firm_model, (asset_rets, asset_values) = create_firm_model(\n",
    "    dataset_monthly,\n",
    "    interval=1/12,\n",
    "    expected_market_ret=0.12,\n",
    "    return_assets=True\n",
    ")"
   ]
  },
  {
   "cell_type": "code",
   "execution_count": 84,
   "id": "5327bc49-8b8a-4558-bbf9-69cd201d0a8b",
   "metadata": {},
   "outputs": [
    {
     "data": {
      "text/plain": [
       "<Axes: ylabel='marketCap'>"
      ]
     },
     "execution_count": 84,
     "metadata": {},
     "output_type": "execute_result"
    },
    {
     "data": {
      "image/png": "[encoded data removed]",
      "text/plain": [
       "<Figure size 640x480 with 1 Axes>"
      ]
     },
     "metadata": {},
     "output_type": "display_data"
    }
   ],
   "source": [
    "sns.lineplot(x=dataset_monthly.index.values[:-1], y=asset_values)\n",
    "sns.lineplot(x=dataset_monthly.index.values[:-1], y=dataset_monthly['marketCap'].iloc[:-1])"
   ]
  },
  {
   "cell_type": "code",
   "execution_count": 89,
   "id": "fd8fcc81-9945-430d-b5f9-2cfcba25aaff",
   "metadata": {},
   "outputs": [],
   "source": [
    "equity_mkt_rets = np.diff(np.log(dataset_monthly['equities_index']))\n",
    "bnd_mkt_rets = np.diff(np.log(dataset_monthly['bonds_index']))\n",
    "equity_ratio = 0.81\n",
    "market_rets = equity_ratio * equity_mkt_rets + (1 - equity_ratio) * bnd_mkt_rets\n",
    "risk_free_rates = dataset_monthly['treasury_yield'].iloc[:-1]\n",
    "\n",
    "equity_mk_ex_rets = equity_mkt_rets - risk_free_rates/12\n",
    "mkt_ex_rets = market_rets - risk_free_rates*1/12\n",
    "\n",
    "equity_ex_rets = np.diff(np.log(dataset_monthly['marketCap'].values)) - risk_free_rates*1/12\n",
    "asset_ex_rets = asset_rets - risk_free_rates*1/12"
   ]
  },
  {
   "cell_type": "code",
   "execution_count": 90,
   "id": "9ca6b49b-1843-48f3-8ee9-caa0aceae3a2",
   "metadata": {},
   "outputs": [
    {
     "data": {
      "text/plain": [
       "<Axes: xlabel='treasury_yield', ylabel='treasury_yield'>"
      ]
     },
     "execution_count": 90,
     "metadata": {},
     "output_type": "execute_result"
    },
    {
     "data": {
      "image/png": "[encoded data removed]",
      "text/plain": [
       "<Figure size 640x480 with 1 Axes>"
      ]
     },
     "metadata": {},
     "output_type": "display_data"
    }
   ],
   "source": [
    "sns.scatterplot(x=equity_mk_ex_rets, y=equity_ex_rets)"
   ]
  },
  {
   "cell_type": "code",
   "execution_count": 91,
   "id": "02be059d-0a4a-4e4d-9ce1-f667a946c981",
   "metadata": {},
   "outputs": [
    {
     "data": {
      "text/plain": [
       "<Axes: xlabel='treasury_yield', ylabel='treasury_yield'>"
      ]
     },
     "execution_count": 91,
     "metadata": {},
     "output_type": "execute_result"
    },
    {
     "data": {
      "image/png": "[encoded data removed]",
      "text/plain": [
       "<Figure size 640x480 with 1 Axes>"
      ]
     },
     "metadata": {},
     "output_type": "display_data"
    }
   ],
   "source": [
    "sns.scatterplot(x=mkt_ex_rets, y=asset_ex_rets)"
   ]
  },
  {
   "cell_type": "code",
   "execution_count": 92,
   "id": "36eae0d0-ef00-40c0-ae1b-bab5c7b4db5d",
   "metadata": {},
   "outputs": [
    {
     "data": {
      "text/plain": [
       "FirmParams(alpha=0.062303769121042754, beta=1.5043512910470846, sigma=0.19422260605745353)"
      ]
     },
     "execution_count": 92,
     "metadata": {},
     "output_type": "execute_result"
    }
   ],
   "source": [
    "firm_model.firm_params"
   ]
  },
  {
   "cell_type": "code",
   "execution_count": 95,
   "id": "53494eda-5bd2-47f3-85d2-1a8d5a7a959f",
   "metadata": {},
   "outputs": [
    {
     "data": {
      "text/plain": [
       "0.0"
      ]
     },
     "execution_count": 95,
     "metadata": {},
     "output_type": "execute_result"
    }
   ],
   "source": [
    "firm_model.predict_default(\n",
    "    equity_value=dataset_monthly['marketCap'].iloc[-1],\n",
    "    debt_value=(dataset_monthly['shortTermDebt'].iloc[-1] + dataset_monthly['longTermDebt'].iloc[-1]/2),\n",
    "    debt_maturity=1,\n",
    "    risk_free_rate=risk_free_rates[-1],\n",
    "    market_ret=-0.5\n",
    ")"
   ]
  },
  {
   "cell_type": "markdown",
   "id": "8d158175-5a7a-4ceb-a8e2-bca459f7641e",
   "metadata": {},
   "source": [
    "## Systematic Default"
   ]
  },
  {
   "cell_type": "code",
   "execution_count": 11,
   "id": "0e292360-8825-431e-9b4a-146c69e93d8e",
   "metadata": {},
   "outputs": [
    {
     "name": "stdout",
     "output_type": "stream",
     "text": [
      "Ticker: COST. # Rows: 2515. From: 2013-05-31 00:00:00. To: 2023-06-23 00:00:00\n",
      "Ticker: CSCO. # Rows: 2515. From: 2013-05-31 00:00:00. To: 2023-06-23 00:00:00\n",
      "Ticker: CRM. # Rows: 2515. From: 2013-05-31 00:00:00. To: 2023-06-23 00:00:00\n",
      "Ticker: ACN. # Rows: 2515. From: 2013-05-31 00:00:00. To: 2023-06-23 00:00:00\n",
      "Ticker: ADBE. # Rows: 2515. From: 2013-05-31 00:00:00. To: 2023-06-23 00:00:00\n",
      "Ticker: LIN. # Rows: 2515. From: 2013-05-31 00:00:00. To: 2023-06-23 00:00:00\n",
      "Ticker: TXN. # Rows: 2515. From: 2013-05-31 00:00:00. To: 2023-06-23 00:00:00\n",
      "Ticker: DHR. # Rows: 2515. From: 2013-05-31 00:00:00. To: 2023-06-23 00:00:00\n"
     ]
    }
   ],
   "source": [
    "tickers = ['COST', 'CSCO', 'CRM', 'ACN', 'ADBE', 'LIN', 'TXN', 'DHR']\n",
    "datasets = {}\n",
    "\n",
    "for ticker in tickers:\n",
    "    firm_data = get_firm_data(ticker)\n",
    "    dataset = create_systematic_default_dataset(\n",
    "        firm_data=firm_data,\n",
    "        treasury_yields=treasury_yields,\n",
    "        bonds_index=bonds_index,\n",
    "        equities_index=equities_index\n",
    "    )\n",
    "    dataset.to_csv(f'../data/systematic_default/{ticker.lower()}_data.csv', index=False)\n",
    "    datasets[ticker] = dataset\n",
    "    print(f'Ticker: {ticker}. # Rows: {len(dataset)}. From: {dataset.date.iloc[0]}. To: {dataset.date.iloc[-1]}')"
   ]
  },
  {
   "cell_type": "code",
   "execution_count": 15,
   "id": "5c54c92c-27f0-41d4-99ad-092614f08881",
   "metadata": {},
   "outputs": [],
   "source": [
    "datasets_monthly = {\n",
    "    ticker: dataset.resample('MS', on='date').first()\n",
    "    for ticker, dataset in datasets.items()\n",
    "}"
   ]
  },
  {
   "cell_type": "code",
   "execution_count": 74,
   "id": "59ee91e1-f951-4359-a653-0525edcdd5fa",
   "metadata": {},
   "outputs": [],
   "source": [
    "firms_data = {\n",
    "    ticker: {\n",
    "        'equity_value': dataset['marketCap'].iloc[-1],\n",
    "        'debt_value': (dataset['shortTermDebt'].iloc[-1] + dataset['longTermDebt'].iloc[-1]/2),\n",
    "        'debt_maturity': 1,\n",
    "        'risk_free_rate': dataset['treasury_yield'].iloc[-1],\n",
    "    }\n",
    "    for ticker, dataset in datasets.items()\n",
    "}"
   ]
  },
  {
   "cell_type": "code",
   "execution_count": 86,
   "id": "3331f11c-9b9b-415f-820e-b468687c48a4",
   "metadata": {},
   "outputs": [],
   "source": [
    "def get_default_count_probs(default_vectors):\n",
    "    default_vectors = [v[:, np.newaxis] for v in default_vectors]\n",
    "\n",
    "    while len(default_vectors) > 1:\n",
    "        next_vectors = []\n",
    "        for i in range(0, len(default_vectors) - 1, 2):\n",
    "            default_mat = default_vectors[i] @ default_vectors[i + 1].T\n",
    "            max_num_defaults = default_mat.shape[0] + default_mat.shape[1] - 2\n",
    "            default_vec = np.zeros(max_num_defaults + 1)\n",
    "    \n",
    "            for j in range(default_mat.shape[0]):\n",
    "                for k in range(default_mat.shape[1]):\n",
    "                    default_vec[j + k] += default_mat[j, k]\n",
    "\n",
    "            default_vec = default_vec[:, np.newaxis]\n",
    "            next_vectors.append(default_vec)\n",
    "\n",
    "        if len(default_vectors) % 2 != 0:\n",
    "            next_vectors.append(default_vectors[-1])\n",
    "        default_vectors = next_vectors\n",
    "\n",
    "    return default_vectors[0].squeeze()\n",
    "\n",
    "\n",
    "def get_systematic_default_probs(datasets, interval, firms_data, market_ret):\n",
    "    firm_models = {\n",
    "        ticker: create_firm_model(\n",
    "            dataset,\n",
    "            interval=interval,\n",
    "            expected_market_ret=market_ret,\n",
    "        )\n",
    "        for ticker, dataset in datasets.items()\n",
    "    }\n",
    "\n",
    "    default_probs = {\n",
    "        ticker: model.predict_default(\n",
    "            equity_value=firms_data[ticker]['equity_value'],\n",
    "            debt_value=firms_data[ticker]['debt_value'],\n",
    "            debt_maturity=firms_data[ticker]['debt_maturity'],\n",
    "            risk_free_rate=firms_data[ticker]['risk_free_rate'],\n",
    "            market_ret=market_ret\n",
    "        )\n",
    "        for ticker, model in firm_models.items()\n",
    "    }\n",
    "    default_vectors = [np.array([1 - p, p]) for p in default_probs.values()]\n",
    "    sys_default_probs = get_default_count_probs(default_vectors)\n",
    "    return sys_default_probs, default_probs, firm_models"
   ]
  },
  {
   "cell_type": "code",
   "execution_count": 87,
   "id": "3a330394-e483-4590-a5b2-37ef5ed23641",
   "metadata": {},
   "outputs": [],
   "source": [
    "sys_probs, firm_probs, firm_models = get_systematic_default_probs(datasets_monthly, 1/12, firms_data, 0.12)"
   ]
  },
  {
   "cell_type": "code",
   "execution_count": 88,
   "id": "744a67f4-812e-4d91-9930-718fa9c72e45",
   "metadata": {},
   "outputs": [
    {
     "data": {
      "text/plain": [
       "array([1., 0., 0., 0., 0., 0., 0., 0., 0.])"
      ]
     },
     "execution_count": 88,
     "metadata": {},
     "output_type": "execute_result"
    }
   ],
   "source": [
    "sys_probs"
   ]
  },
  {
   "cell_type": "code",
   "execution_count": 89,
   "id": "2b24c132-249c-4c8e-a4b3-f55c4d110412",
   "metadata": {},
   "outputs": [
    {
     "data": {
      "text/plain": [
       "{'COST': 0.0,\n",
       " 'CSCO': 0.0,\n",
       " 'CRM': 0.0,\n",
       " 'ACN': 0.0,\n",
       " 'ADBE': 0.0,\n",
       " 'LIN': 0.0,\n",
       " 'TXN': 0.0,\n",
       " 'DHR': 0.0}"
      ]
     },
     "execution_count": 89,
     "metadata": {},
     "output_type": "execute_result"
    }
   ],
   "source": [
    "firm_probs"
   ]
  },
  {
   "cell_type": "code",
   "execution_count": 93,
   "id": "f57299ff-dfa4-484e-97a6-6b33f9708b71",
   "metadata": {},
   "outputs": [
    {
     "data": {
      "text/plain": [
       "[('COST',\n",
       "  FirmParams(alpha=0.07925201002585935, beta=0.8161477340258506, sigma=0.15047370044593636)),\n",
       " ('CSCO',\n",
       "  FirmParams(alpha=-0.04396181780546432, beta=1.0293401866473983, sigma=0.17538263265630702)),\n",
       " ('CRM',\n",
       "  FirmParams(alpha=0.09603773060665813, beta=1.4326354098233434, sigma=0.2211556147146015)),\n",
       " ('ACN',\n",
       "  FirmParams(alpha=0.010332314595499189, beta=1.3372844140938511, sigma=0.1189978621590919)),\n",
       " ('ADBE',\n",
       "  FirmParams(alpha=0.1026609234587237, beta=1.4189721704923561, sigma=0.19773058519500633)),\n",
       " ('LIN',\n",
       "  FirmParams(alpha=0.08785166087690738, beta=0.8098650761613346, sigma=0.20064037310970392)),\n",
       " ('TXN',\n",
       "  FirmParams(alpha=0.025331478124824718, beta=1.2431560628213045, sigma=0.13755529235904568)),\n",
       " ('DHR',\n",
       "  FirmParams(alpha=0.047063369085413, beta=0.962156509272216, sigma=0.15861115894450772))]"
      ]
     },
     "execution_count": 93,
     "metadata": {},
     "output_type": "execute_result"
    }
   ],
   "source": [
    "[(ticker, m.firm_params) for ticker, m in firm_models.items()]"
   ]
  }
 ],
 "metadata": {
  "kernelspec": {
   "display_name": "Python 3 (ipykernel)",
   "language": "python",
   "name": "python3"
  },
  "language_info": {
   "codemirror_mode": {
    "name": "ipython",
    "version": 3
   },
   "file_extension": ".py",
   "mimetype": "text/x-python",
   "name": "python",
   "nbconvert_exporter": "python",
   "pygments_lexer": "ipython3",
   "version": "3.10.11"
  }
 },
 "nbformat": 4,
 "nbformat_minor": 5
}
